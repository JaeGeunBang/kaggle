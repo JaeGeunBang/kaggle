{
 "cells": [
  {
   "cell_type": "code",
   "execution_count": 1,
   "metadata": {
    "collapsed": false
   },
   "outputs": [
    {
     "data": {
      "text/plain": [
       "'3.5.2 |Anaconda 4.2.0 (64-bit)| (default, Jul  5 2016, 11:41:13) [MSC v.1900 64 bit (AMD64)]'"
      ]
     },
     "execution_count": 1,
     "metadata": {},
     "output_type": "execute_result"
    }
   ],
   "source": [
    "import sys\n",
    "sys.version"
   ]
  },
  {
   "cell_type": "code",
   "execution_count": 56,
   "metadata": {
    "collapsed": false
   },
   "outputs": [
    {
     "data": {
      "text/plain": [
       "0.38383838383838381"
      ]
     },
     "execution_count": 56,
     "metadata": {},
     "output_type": "execute_result"
    }
   ],
   "source": [
    "import csv as csv # csv 라는 모듈을 읽고 별칭은 csv로 사용함\n",
    "import numpy as np\n",
    "\n",
    "csv_file_object = csv.reader(open('./train.csv', 'rt'))\n",
    "header = next(csv_file_object)\n",
    "\n",
    "data=[]\n",
    "for row in csv_file_object:\n",
    "    data.append(row)\n",
    "# convert from a list to an array\n",
    "data = np.array(data)\n",
    "\n",
    "# 2차원 배열의 value 접근방법\n",
    "# [처음 시작 offset : 마지막 offset : incremental/decremental step], column number]\n",
    "# 문자열은 str\n",
    "number_passaenger=np.size(data[0::,0])\n",
    "number_survived=np.sum(data[0::,1].astype(np.float))\n",
    "prpportion_survivors = number_survived / number_passaenger\n",
    "\n",
    "# 살아남은 사람의 비율 891명 중 38.3%가 살아남음\n",
    "prpportion_survivors"
   ]
  },
  {
   "cell_type": "code",
   "execution_count": 57,
   "metadata": {
    "collapsed": false
   },
   "outputs": [
    {
     "data": {
      "text/plain": [
       "891"
      ]
     },
     "execution_count": 57,
     "metadata": {},
     "output_type": "execute_result"
    }
   ],
   "source": [
    "women_only_stats = data[0::,4] == \"female\"\n",
    "men_only_stats = data[0::,4] != \"female\""
   ]
  },
  {
   "cell_type": "code",
   "execution_count": 66,
   "metadata": {
    "collapsed": false
   },
   "outputs": [
    {
     "name": "stdout",
     "output_type": "stream",
     "text": [
      "proportion of women who survived is 0.742038216561\n",
      "proportion of men who survived is 0.188908145581\n"
     ]
    }
   ],
   "source": [
    "# true값을 1로 바꿔줌\n",
    "women_onboard = data[women_only_stats, 1].astype(np.float)\n",
    "men_onboard = data[men_only_stats, 1].astype(np.float)\n",
    "# 그 후, 남자, 여자의 생존 비율을 계산 할 수 있음\n",
    "proportion_women_survived = np.sum(women_onboard) / np.size(women_onboard)\n",
    "proportion_men_survived = np.sum(men_onboard) / np.size(men_onboard)\n",
    "\n",
    "print(\"proportion of women who survived is %s\" % proportion_women_survived)\n",
    "print(\"proportion of men who survived is %s\" % proportion_men_survived)"
   ]
  },
  {
   "cell_type": "code",
   "execution_count": null,
   "metadata": {
    "collapsed": true
   },
   "outputs": [],
   "source": []
  }
 ],
 "metadata": {
  "anaconda-cloud": {},
  "kernelspec": {
   "display_name": "Python [default]",
   "language": "python",
   "name": "python3"
  },
  "language_info": {
   "codemirror_mode": {
    "name": "ipython",
    "version": 3
   },
   "file_extension": ".py",
   "mimetype": "text/x-python",
   "name": "python",
   "nbconvert_exporter": "python",
   "pygments_lexer": "ipython3",
   "version": "3.5.2"
  }
 },
 "nbformat": 4,
 "nbformat_minor": 1
}
