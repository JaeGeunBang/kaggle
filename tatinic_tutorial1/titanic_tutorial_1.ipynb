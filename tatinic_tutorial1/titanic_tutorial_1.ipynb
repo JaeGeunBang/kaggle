{
 "cells": [
  {
   "cell_type": "code",
   "execution_count": 2,
   "metadata": {
    "collapsed": false
   },
   "outputs": [
    {
     "data": {
      "text/plain": [
       "'3.5.2 |Anaconda 4.2.0 (64-bit)| (default, Jul  5 2016, 11:41:13) [MSC v.1900 64 bit (AMD64)]'"
      ]
     },
     "execution_count": 2,
     "metadata": {},
     "output_type": "execute_result"
    }
   ],
   "source": [
    "import sys\n",
    "sys.version"
   ]
  },
  {
   "cell_type": "code",
   "execution_count": 3,
   "metadata": {
    "collapsed": false
   },
   "outputs": [
    {
     "data": {
      "text/plain": [
       "0.38383838383838381"
      ]
     },
     "execution_count": 3,
     "metadata": {},
     "output_type": "execute_result"
    }
   ],
   "source": [
    "import csv as csv # csv 라는 모듈을 읽고 별칭은 csv로 사용함\n",
    "import numpy as np\n",
    "\n",
    "csv_file_object = csv.reader(open('./train.csv', 'rt'))\n",
    "header = next(csv_file_object)\n",
    "\n",
    "data=[]\n",
    "for row in csv_file_object:\n",
    "    data.append(row)\n",
    "# convert from a list to an array\n",
    "data = np.array(data)\n",
    "\n",
    "# 2차원 배열의 value 접근방법\n",
    "# [처음 시작 offset : 마지막 offset : incremental/decremental step], column number]\n",
    "# 문자열은 str\n",
    "number_passaenger=np.size(data[0::,0])\n",
    "number_survived=np.sum(data[0::,1].astype(np.float))\n",
    "prpportion_survivors = number_survived / number_passaenger\n",
    "\n",
    "# 살아남은 사람의 비율 891명 중 38.3%가 살아남음\n",
    "prpportion_survivors"
   ]
  },
  {
   "cell_type": "code",
   "execution_count": 4,
   "metadata": {
    "collapsed": false
   },
   "outputs": [],
   "source": [
    "women_only_stats = data[0::,4] == \"female\"\n",
    "men_only_stats = data[0::,4] != \"female\""
   ]
  },
  {
   "cell_type": "code",
   "execution_count": 5,
   "metadata": {
    "collapsed": false
   },
   "outputs": [
    {
     "name": "stdout",
     "output_type": "stream",
     "text": [
      "proportion of women who survived is 0.742038216561\n",
      "proportion of men who survived is 0.188908145581\n"
     ]
    }
   ],
   "source": [
    "# true값을 1로 바꿔줌\n",
    "women_onboard = data[women_only_stats, 1].astype(np.float)\n",
    "men_onboard = data[men_only_stats, 1].astype(np.float)\n",
    "# 그 후, 남자, 여자의 생존 비율을 계산 할 수 있음\n",
    "proportion_women_survived = np.sum(women_onboard) / np.size(women_onboard)\n",
    "proportion_men_survived = np.sum(men_onboard) / np.size(men_onboard)\n",
    "\n",
    "print(\"proportion of women who survived is %s\" % proportion_women_survived)\n",
    "print(\"proportion of men who survived is %s\" % proportion_men_survived)"
   ]
  },
  {
   "cell_type": "code",
   "execution_count": 6,
   "metadata": {
    "collapsed": true
   },
   "outputs": [],
   "source": [
    "test_file = open('./test.csv', 'rt')\n",
    "test_file_object = csv.reader(test_file)\n",
    "header = next(test_file_object)"
   ]
  },
  {
   "cell_type": "code",
   "execution_count": 7,
   "metadata": {
    "collapsed": true
   },
   "outputs": [],
   "source": [
    "prediction_file = open('genderbasedmodel.csv', 'wt')\n",
    "prediction_file_object=csv.writer(prediction_file)"
   ]
  },
  {
   "cell_type": "code",
   "execution_count": 8,
   "metadata": {
    "collapsed": false
   },
   "outputs": [],
   "source": [
    "# It create simple classification model using test data sets.\n",
    "# If passenger is femals, we predict that she is survived.\n",
    "prediction_file_object.writerow(['PassengerId','Survived'])\n",
    "for row in test_file_object:\n",
    "    if row[3] == 'female':\n",
    "        prediction_file_object.writerow([row[0],'1'])\n",
    "    else:\n",
    "        prediction_file_object.writerow([row[0],'0'])\n",
    "test_file.close()\n",
    "prediction_file.close()"
   ]
  },
  {
   "cell_type": "code",
   "execution_count": 16,
   "metadata": {
    "collapsed": false
   },
   "outputs": [
    {
     "name": "stdout",
     "output_type": "stream",
     "text": [
      "[[[ 0.  0.  0.  0.]\n",
      "  [ 0.  0.  0.  0.]\n",
      "  [ 0.  0.  0.  0.]]\n",
      "\n",
      " [[ 0.  0.  0.  0.]\n",
      "  [ 0.  0.  0.  0.]\n",
      "  [ 0.  0.  0.  0.]]]\n"
     ]
    },
    {
     "name": "stderr",
     "output_type": "stream",
     "text": [
      "C:\\Users\\jaegeun\\Anaconda3\\lib\\site-packages\\ipykernel\\__main__.py:10: VisibleDeprecationWarning: using a non-integer number instead of an integer will result in an error in the future\n"
     ]
    }
   ],
   "source": [
    "fare_ceiling = 40\n",
    "data[data[0::,9].astype(np.float) >= fare_ceiling, 9] = fare_ceiling - 1.0\n",
    "\n",
    "fare_bracket_size = 10\n",
    "number_of_price_brackets = fare_ceiling / fare_bracket_size\n",
    "\n",
    "number_of_classes = 3\n",
    "number_of_classes = len(np.unique(data[0::,2]))\n",
    "\n",
    "# 3차원 배열 2*3*4를 생성함\n",
    "survival_table = np.zeros((2, number_of_classes, number_of_price_brackets))\n",
    "\n",
    "print(survival_table)"
   ]
  },
  {
   "cell_type": "code",
   "execution_count": 25,
   "metadata": {
    "collapsed": false
   },
   "outputs": [
    {
     "name": "stdout",
     "output_type": "stream",
     "text": [
      "[[[ 0.          0.          0.83333333  0.97727273]\n",
      "  [ 0.          0.91428571  0.9         1.        ]\n",
      "  [ 0.59375     0.58139535  0.33333333  0.125     ]]\n",
      "\n",
      " [[ 0.          0.          0.4         0.38372093]\n",
      "  [ 0.          0.15873016  0.16        0.21428571]\n",
      "  [ 0.11153846  0.23684211  0.125       0.24      ]]]\n"
     ]
    },
    {
     "name": "stderr",
     "output_type": "stream",
     "text": [
      "C:\\Users\\jaegeun\\Anaconda3\\lib\\site-packages\\numpy\\core\\_methods.py:59: RuntimeWarning: Mean of empty slice.\n",
      "  warnings.warn(\"Mean of empty slice.\", RuntimeWarning)\n",
      "C:\\Users\\jaegeun\\Anaconda3\\lib\\site-packages\\numpy\\core\\_methods.py:70: RuntimeWarning: invalid value encountered in double_scalars\n",
      "  ret = ret.dtype.type(ret / rcount)\n"
     ]
    }
   ],
   "source": [
    "# 3*4번 for문을 돌면서\n",
    "for i in range(number_of_classes):\n",
    "    for j in range(int(number_of_price_brackets)):\n",
    "        # 여자와 남자 중 살아 남은 사람들 중에 승선 티켓의 종류는? 지불한 금액에 따라서 분류함\n",
    "        # women_only_stats, men_only_stats 데이터를 생성함\n",
    "        # 그 후, survival_table에 input함\n",
    "        women_only_stats = data[                          #Which element           \n",
    "                         (data[0::,4] == \"female\")    #is a female\n",
    "                       &(data[0::,2].astype(np.float) #and was ith class\n",
    "                             == i+1)                       \n",
    "                       &(data[0::,9].astype(np.float)  #was greater \n",
    "                            >= j*fare_bracket_size)   #than this bin              \n",
    "                       &(data[0::,9].astype(np.float)  #and less than\n",
    "                            < (j+1)*fare_bracket_size)#the next bin    \n",
    "                          , 1]                        #in the 2nd col \n",
    "  \n",
    "        \n",
    "        men_only_stats = data[                          #Which element           \n",
    "                         (data[0::,4] == \"male\")    #is a female\n",
    "                       &(data[0::,2].astype(np.float) #and was ith class\n",
    "                             == i+1)                       \n",
    "                       &(data[0::,9].astype(np.float)  #was greater \n",
    "                            >= j*fare_bracket_size)   #than this bin              \n",
    "                       &(data[0::,9].astype(np.float)  #and less than\n",
    "                            < (j+1)*fare_bracket_size)#the next bin    \n",
    "                          , 1]\n",
    "        \n",
    "        survival_table[0,i,j] = np.mean(women_only_stats.astype(np.float))\n",
    "        survival_table[1,i,j] = np.mean(men_only_stats.astype(np.float))\n",
    "        \n",
    "survival_table[ survival_table != survival_table] = 0.\n",
    "\n",
    "print(survival_table)\n",
    "# 테이블을 분석해 보면\n",
    "# 여자 중, 1 class, 1 price_bracket인 사람 들 중 살아 남은 사람은 없는것을 의미함=0(mean:평균값)\n",
    "# 여자 중, 2 class, 4 price_bracket인 사람 들은 모두 삻아 남은 것을 의미함=1"
   ]
  },
  {
   "cell_type": "code",
   "execution_count": 26,
   "metadata": {
    "collapsed": false
   },
   "outputs": [
    {
     "name": "stdout",
     "output_type": "stream",
     "text": [
      "[[[ 0.  0.  1.  1.]\n",
      "  [ 0.  1.  1.  1.]\n",
      "  [ 1.  1.  0.  0.]]\n",
      "\n",
      " [[ 0.  0.  0.  0.]\n",
      "  [ 0.  0.  0.  0.]\n",
      "  [ 0.  0.  0.  0.]]]\n"
     ]
    }
   ],
   "source": [
    "# survival_table에 있는 값이 >= 0.5 면 살아남는다고 예측\n",
    "# survival_table에 있는 값이 < 0.5면 죽었다고 예측\n",
    "survival_table[survival_table < 0.5] = 0\n",
    "survival_table[survival_table >= 0.5] = 1\n",
    "\n",
    "print(survival_table)"
   ]
  },
  {
   "cell_type": "code",
   "execution_count": 27,
   "metadata": {
    "collapsed": false
   },
   "outputs": [
    {
     "name": "stderr",
     "output_type": "stream",
     "text": [
      "C:\\Users\\jaegeun\\Anaconda3\\lib\\site-packages\\ipykernel\\__main__.py:24: VisibleDeprecationWarning: using a non-integer number instead of an integer will result in an error in the future\n",
      "C:\\Users\\jaegeun\\Anaconda3\\lib\\site-packages\\ipykernel\\__main__.py:22: VisibleDeprecationWarning: using a non-integer number instead of an integer will result in an error in the future\n"
     ]
    }
   ],
   "source": [
    "test_file = open('./test.csv', 'rt')\n",
    "test_file_object = csv.reader(test_file)\n",
    "header = next(test_file_object)\n",
    "prediction_file = open('./genderclassmodel.csv','wt')\n",
    "p = csv.writer(prediction_file)\n",
    "p.writerow(['PassengerId','Survived'])\n",
    "\n",
    "for row in test_file_object:\n",
    "    for j in range(int(number_of_price_brackets)):\n",
    "        try:\n",
    "            row[8] = float(row[8])\n",
    "        except:\n",
    "            bin_fare = 3 - float(row[1])\n",
    "            break\n",
    "        if row[8] > fare_ceiling:\n",
    "            bin_fare = number_of_price_brackets-1\n",
    "            break\n",
    "        if row[8] >= j*fare_bracket_size and row[8] < (j+1) * fare_bracket_size:\n",
    "            bin_fare = j\n",
    "            break\n",
    "    if row[3] == 'female':\n",
    "        p.writerow([row[0], \"%d\" % int(survival_table[0, float(row[1])-1, bin_fare])])\n",
    "    else:\n",
    "        p.writerow([row[0], \"%d\" % int(survival_table[1, float(row[1])-1, bin_fare])])\n",
    "test_file.close()\n",
    "prediction_file.close()"
   ]
  },
  {
   "cell_type": "code",
   "execution_count": null,
   "metadata": {
    "collapsed": true
   },
   "outputs": [],
   "source": []
  }
 ],
 "metadata": {
  "anaconda-cloud": {},
  "kernelspec": {
   "display_name": "Python [default]",
   "language": "python",
   "name": "python3"
  },
  "language_info": {
   "codemirror_mode": {
    "name": "ipython",
    "version": 3
   },
   "file_extension": ".py",
   "mimetype": "text/x-python",
   "name": "python",
   "nbconvert_exporter": "python",
   "pygments_lexer": "ipython3",
   "version": "3.5.2"
  }
 },
 "nbformat": 4,
 "nbformat_minor": 1
}
