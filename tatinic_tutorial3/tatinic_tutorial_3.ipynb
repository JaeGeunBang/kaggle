{
 "cells": [
  {
   "cell_type": "code",
   "execution_count": 1,
   "metadata": {
    "collapsed": false
   },
   "outputs": [],
   "source": [
    "import pandas as pd\n",
    "import numpy as np\n",
    "import csv as csv\n",
    "df_train = pd.read_csv('./train.csv', header=0)\n",
    "df_test = pd.read_csv('./test.csv', header=0)"
   ]
  },
  {
   "cell_type": "code",
   "execution_count": 2,
   "metadata": {
    "collapsed": false
   },
   "outputs": [],
   "source": [
    "df_train['Gender']=4\n",
    "df_train['Gender'] = df_train['Sex'].map( {'female':0, 'male':1}).astype(int)\n",
    "\n",
    "median_ages = np.zeros((2,3))\n",
    "for i in range(0,2):\n",
    "    for j in range(0,3):\n",
    "        median_ages[i,j] = df_train[(df_train['Gender'] == i) & \n",
    "                              (df_train['Pclass'] == j+1)]['Age'].dropna().median()\n",
    "df_train['AgeFill'] = df_train['Age']\n",
    "df_train['AgeIsNull'] = pd.isnull(df_train.Age).astype(int)\n",
    "df_train['FamilySize'] = df_train['SibSp'] + df_train['Parch']\n",
    "df_train['Age*Class'] = df_train.AgeFill * df_train.Pclass\n",
    "df_train = df_train.drop(['Name','Sex','Ticket','Cabin','Embarked', 'Age'], axis=1)\n",
    "#df_train = df_train.dropna()"
   ]
  },
  {
   "cell_type": "code",
   "execution_count": 3,
   "metadata": {
    "collapsed": false
   },
   "outputs": [],
   "source": [
    "df_test['Gender']=4\n",
    "df_test['Gender'] = df_test['Sex'].map( {'female':0, 'male':1}).astype(int)\n",
    "\n",
    "median_ages = np.zeros((2,3))\n",
    "for i in range(0,2):\n",
    "    for j in range(0,3):\n",
    "        median_ages[i,j] = df_test[(df_test['Gender'] == i) & \n",
    "                              (df_test['Pclass'] == j+1)]['Age'].dropna().median()\n",
    "df_test['AgeFill'] = df_test['Age']\n",
    "df_test['AgeIsNull'] = pd.isnull(df_test.Age).astype(int)\n",
    "df_test['FamilySize'] = df_test['SibSp'] + df_test['Parch']\n",
    "df_test['Age*Class'] = df_test.AgeFill * df_test.Pclass\n",
    "df_test = df_test.drop(['Name','Sex','Ticket','Cabin','Embarked', 'Age'], axis=1)\n",
    "#df_test = df_test.dropna()"
   ]
  },
  {
   "cell_type": "code",
   "execution_count": 4,
   "metadata": {
    "collapsed": false
   },
   "outputs": [],
   "source": [
    "# change column order\n",
    "cols = df_train.columns.tolist()\n",
    "cols= cols[1:] + cols[:1]\n",
    "df_train = df_train[cols]\n",
    "df_train[ df_train != df_train ] = 0.\n",
    "df_test[ df_test != df_test ] = 0."
   ]
  },
  {
   "cell_type": "code",
   "execution_count": 5,
   "metadata": {
    "collapsed": false
   },
   "outputs": [],
   "source": [
    "train_data = df_train.values\n",
    "test_data = df_test.values\n",
    "# Import the random forest package\n",
    "from sklearn.ensemble import RandomForestClassifier \n",
    "\n",
    "# Create the random forest object which will include all the parameters\n",
    "# for the fit\n",
    "forest = RandomForestClassifier(n_estimators = 100)\n",
    "\n",
    "# Fit the training data to the Survived labels and create the decision trees\n",
    "# train_data [0::, 1::]\n",
    "# 0번째 row부터 다 가져올 것\n",
    "# 1번째 colum부터 다 가져올 것\n",
    "# train_data[0::,0]\n",
    "\n",
    "# fit의 파라미터는 x,y\n",
    "# x는 labed된 attribute를 뺀 나머지 attributed를 선택함.\n",
    "# y는 labed하고 싶은 attributed를 선택함.\n",
    "forest = forest.fit(train_data[0::, 1::], train_data[0::,0])\n",
    "\n",
    "# Take the same decision trees and run it on the test data\n",
    "# test data와 train data의 attributed의 수는 똑같아야함\n",
    "output = forest.predict(test_data)"
   ]
  },
  {
   "cell_type": "code",
   "execution_count": 6,
   "metadata": {
    "collapsed": false
   },
   "outputs": [],
   "source": [
    "# create randomforestmodel.\n",
    "prediction_file = open('./randomforestmodel.csv','wt')\n",
    "p = csv.writer(prediction_file)\n",
    "p.writerow(['PassengerId','Survived'])\n",
    "\n",
    "for i, j in zip(df_test['PassengerId'], output):\n",
    "    #print(i, j)\n",
    "    p.writerow([i,j])\n",
    "prediction_file.close()"
   ]
  },
  {
   "cell_type": "code",
   "execution_count": null,
   "metadata": {
    "collapsed": true
   },
   "outputs": [],
   "source": []
  }
 ],
 "metadata": {
  "kernelspec": {
   "display_name": "Python [default]",
   "language": "python",
   "name": "python3"
  },
  "language_info": {
   "codemirror_mode": {
    "name": "ipython",
    "version": 3
   },
   "file_extension": ".py",
   "mimetype": "text/x-python",
   "name": "python",
   "nbconvert_exporter": "python",
   "pygments_lexer": "ipython3",
   "version": "3.5.2"
  }
 },
 "nbformat": 4,
 "nbformat_minor": 1
}
