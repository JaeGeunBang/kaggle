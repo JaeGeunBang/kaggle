{
 "cells": [
  {
   "cell_type": "code",
   "execution_count": 1,
   "metadata": {
    "collapsed": false
   },
   "outputs": [],
   "source": [
    "import pandas as pd\n",
    "import numpy as np\n",
    "df_train = pd.read_csv('./train.csv', header=0)\n",
    "df_test = pd.read_csv('./test.csv', header=0)"
   ]
  },
  {
   "cell_type": "code",
   "execution_count": 2,
   "metadata": {
    "collapsed": false
   },
   "outputs": [],
   "source": [
    "df_train['Gender']=4\n",
    "df_train['Gender'] = df_train['Sex'].map( {'female':0, 'male':1}).astype(int)\n",
    "\n",
    "median_ages = np.zeros((2,3))\n",
    "for i in range(0,2):\n",
    "    for j in range(0,3):\n",
    "        median_ages[i,j] = df_train[(df_train['Gender'] == i) & \n",
    "                              (df_train['Pclass'] == j+1)]['Age'].dropna().median()\n",
    "df_train['AgeFill'] = df_train['Age']\n",
    "df_train['AgeIsNull'] = pd.isnull(df_train.Age).astype(int)\n",
    "df_train['FamilySize'] = df_train['SibSp'] + df_train['Parch']\n",
    "df_train['Age*Class'] = df_train.AgeFill * df_train.Pclass\n",
    "df_train = df_train.drop(['Name','Sex','Ticket','Cabin','Embarked', 'Age'], axis=1)\n",
    "df_train = df_train.dropna()"
   ]
  },
  {
   "cell_type": "code",
   "execution_count": 3,
   "metadata": {
    "collapsed": false
   },
   "outputs": [],
   "source": [
    "df_test['Gender']=4\n",
    "df_test['Gender'] = df_test['Sex'].map( {'female':0, 'male':1}).astype(int)\n",
    "\n",
    "median_ages = np.zeros((2,3))\n",
    "for i in range(0,2):\n",
    "    for j in range(0,3):\n",
    "        median_ages[i,j] = df_test[(df_test['Gender'] == i) & \n",
    "                              (df_test['Pclass'] == j+1)]['Age'].dropna().median()\n",
    "df_test['AgeFill'] = df_test['Age']\n",
    "df_test['AgeIsNull'] = pd.isnull(df_test.Age).astype(int)\n",
    "df_test['FamilySize'] = df_test['SibSp'] + df_test['Parch']\n",
    "df_test['Age*Class'] = df_test.AgeFill * df_test.Pclass\n",
    "df_test['Survivid']=0\n",
    "df_test = df_test.drop(['Name','Sex','Ticket','Cabin','Embarked', 'Age'], axis=1)\n",
    "df_test = df_test.dropna()"
   ]
  },
  {
   "cell_type": "code",
   "execution_count": 10,
   "metadata": {
    "collapsed": false
   },
   "outputs": [],
   "source": [
    "train_data = df_train.values\n",
    "test_data = df_test.values\n",
    "# Import the random forest package\n",
    "from sklearn.ensemble import RandomForestClassifier \n",
    "\n",
    "# Create the random forest object which will include all the parameters\n",
    "# for the fit\n",
    "forest = RandomForestClassifier(n_estimators = 100)\n",
    "\n",
    "# Fit the training data to the Survived labels and create the decision trees\n",
    "# train_data [0::, 1::]\n",
    "# 0번째 row부터 다 가져올 것\n",
    "# 1번째 colum부터 다 가져올 것\n",
    "# train_data[0::,0]\n",
    "forest = forest.fit(train_data,train_data[0::,1])\n",
    "\n",
    "# Take the same decision trees and run it on the test data\n",
    "output = forest.predict(test_data)"
   ]
  },
  {
   "cell_type": "code",
   "execution_count": 9,
   "metadata": {
    "collapsed": false
   },
   "outputs": [
    {
     "data": {
      "text/plain": [
       "331"
      ]
     },
     "execution_count": 9,
     "metadata": {},
     "output_type": "execute_result"
    }
   ],
   "source": [
    "output.size"
   ]
  },
  {
   "cell_type": "code",
   "execution_count": null,
   "metadata": {
    "collapsed": true
   },
   "outputs": [],
   "source": []
  }
 ],
 "metadata": {
  "kernelspec": {
   "display_name": "Python [default]",
   "language": "python",
   "name": "python3"
  },
  "language_info": {
   "codemirror_mode": {
    "name": "ipython",
    "version": 3
   },
   "file_extension": ".py",
   "mimetype": "text/x-python",
   "name": "python",
   "nbconvert_exporter": "python",
   "pygments_lexer": "ipython3",
   "version": "3.5.2"
  }
 },
 "nbformat": 4,
 "nbformat_minor": 1
}
